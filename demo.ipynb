{
  "nbformat": 4,
  "nbformat_minor": 0,
  "metadata": {
    "colab": {
      "provenance": [],
      "gpuType": "T4",
      "authorship_tag": "ABX9TyPQVTRsEG9keV6nyYXEklgb",
      "include_colab_link": true
    },
    "kernelspec": {
      "name": "python3",
      "display_name": "Python 3"
    },
    "language_info": {
      "name": "python"
    },
    "accelerator": "GPU"
  },
  "cells": [
    {
      "cell_type": "markdown",
      "metadata": {
        "id": "view-in-github",
        "colab_type": "text"
      },
      "source": [
        "<a href=\"https://colab.research.google.com/github/MathieuNlp/Sam_LoRA/blob/main/demo.ipynb\" target=\"_parent\"><img src=\"https://colab.research.google.com/assets/colab-badge.svg\" alt=\"Open In Colab\"/></a>"
      ]
    },
    {
      "cell_type": "markdown",
      "source": [
        "# Demo of Sam LoRA with gradio"
      ],
      "metadata": {
        "id": "HfKkvtNWjjz5"
      }
    },
    {
      "cell_type": "code",
      "source": [
        "!pip install poetry"
      ],
      "metadata": {
        "colab": {
          "base_uri": "https://localhost:8080/"
        },
        "id": "e4Ui1PhmMoaZ",
        "outputId": "ab7ca70c-de67-4ad0-ea84-0bb0cd5ed548"
      },
      "execution_count": 1,
      "outputs": [
        {
          "output_type": "stream",
          "name": "stdout",
          "text": [
            "Requirement already satisfied: poetry in /usr/local/lib/python3.10/dist-packages (1.6.1)\n",
            "Requirement already satisfied: build<0.11.0,>=0.10.0 in /usr/local/lib/python3.10/dist-packages (from poetry) (0.10.0)\n",
            "Requirement already satisfied: cachecontrol[filecache]<0.14.0,>=0.13.0 in /usr/local/lib/python3.10/dist-packages (from poetry) (0.13.1)\n",
            "Requirement already satisfied: cleo<3.0.0,>=2.0.0 in /usr/local/lib/python3.10/dist-packages (from poetry) (2.0.1)\n",
            "Requirement already satisfied: crashtest<0.5.0,>=0.4.1 in /usr/local/lib/python3.10/dist-packages (from poetry) (0.4.1)\n",
            "Requirement already satisfied: dulwich<0.22.0,>=0.21.2 in /usr/local/lib/python3.10/dist-packages (from poetry) (0.21.6)\n",
            "Requirement already satisfied: installer<0.8.0,>=0.7.0 in /usr/local/lib/python3.10/dist-packages (from poetry) (0.7.0)\n",
            "Requirement already satisfied: jsonschema<4.18.0,>=4.10.0 in /usr/local/lib/python3.10/dist-packages (from poetry) (4.17.3)\n",
            "Requirement already satisfied: keyring<25.0.0,>=24.0.0 in /usr/local/lib/python3.10/dist-packages (from poetry) (24.2.0)\n",
            "Requirement already satisfied: packaging>=20.4 in /usr/local/lib/python3.10/dist-packages (from poetry) (23.1)\n",
            "Requirement already satisfied: pexpect<5.0.0,>=4.7.0 in /usr/local/lib/python3.10/dist-packages (from poetry) (4.8.0)\n",
            "Requirement already satisfied: pkginfo<2.0.0,>=1.9.4 in /usr/local/lib/python3.10/dist-packages (from poetry) (1.9.6)\n",
            "Requirement already satisfied: platformdirs<4.0.0,>=3.0.0 in /usr/local/lib/python3.10/dist-packages (from poetry) (3.10.0)\n",
            "Requirement already satisfied: poetry-core==1.7.0 in /usr/local/lib/python3.10/dist-packages (from poetry) (1.7.0)\n",
            "Requirement already satisfied: poetry-plugin-export<2.0.0,>=1.5.0 in /usr/local/lib/python3.10/dist-packages (from poetry) (1.5.0)\n",
            "Requirement already satisfied: pyproject-hooks<2.0.0,>=1.0.0 in /usr/local/lib/python3.10/dist-packages (from poetry) (1.0.0)\n",
            "Requirement already satisfied: requests<3.0,>=2.26 in /usr/local/lib/python3.10/dist-packages (from poetry) (2.31.0)\n",
            "Requirement already satisfied: requests-toolbelt<2,>=0.9.1 in /usr/local/lib/python3.10/dist-packages (from poetry) (1.0.0)\n",
            "Requirement already satisfied: shellingham<2.0,>=1.5 in /usr/local/lib/python3.10/dist-packages (from poetry) (1.5.3)\n",
            "Requirement already satisfied: tomli<3.0.0,>=2.0.1 in /usr/local/lib/python3.10/dist-packages (from poetry) (2.0.1)\n",
            "Requirement already satisfied: tomlkit<1.0.0,>=0.11.4 in /usr/local/lib/python3.10/dist-packages (from poetry) (0.12.1)\n",
            "Requirement already satisfied: trove-classifiers>=2022.5.19 in /usr/local/lib/python3.10/dist-packages (from poetry) (2023.8.7)\n",
            "Requirement already satisfied: virtualenv<21.0.0,>=20.22.0 in /usr/local/lib/python3.10/dist-packages (from poetry) (20.24.5)\n",
            "Requirement already satisfied: msgpack>=0.5.2 in /usr/local/lib/python3.10/dist-packages (from cachecontrol[filecache]<0.14.0,>=0.13.0->poetry) (1.0.5)\n",
            "Requirement already satisfied: filelock>=3.8.0 in /usr/local/lib/python3.10/dist-packages (from cachecontrol[filecache]<0.14.0,>=0.13.0->poetry) (3.12.2)\n",
            "Requirement already satisfied: rapidfuzz<3.0.0,>=2.2.0 in /usr/local/lib/python3.10/dist-packages (from cleo<3.0.0,>=2.0.0->poetry) (2.15.1)\n",
            "Requirement already satisfied: urllib3>=1.25 in /usr/local/lib/python3.10/dist-packages (from dulwich<0.22.0,>=0.21.2->poetry) (2.0.4)\n",
            "Requirement already satisfied: attrs>=17.4.0 in /usr/local/lib/python3.10/dist-packages (from jsonschema<4.18.0,>=4.10.0->poetry) (23.1.0)\n",
            "Requirement already satisfied: pyrsistent!=0.17.0,!=0.17.1,!=0.17.2,>=0.14.0 in /usr/local/lib/python3.10/dist-packages (from jsonschema<4.18.0,>=4.10.0->poetry) (0.19.3)\n",
            "Requirement already satisfied: jaraco.classes in /usr/local/lib/python3.10/dist-packages (from keyring<25.0.0,>=24.0.0->poetry) (3.3.0)\n",
            "Requirement already satisfied: importlib-metadata>=4.11.4 in /usr/local/lib/python3.10/dist-packages (from keyring<25.0.0,>=24.0.0->poetry) (6.8.0)\n",
            "Requirement already satisfied: SecretStorage>=3.2 in /usr/lib/python3/dist-packages (from keyring<25.0.0,>=24.0.0->poetry) (3.3.1)\n",
            "Requirement already satisfied: jeepney>=0.4.2 in /usr/lib/python3/dist-packages (from keyring<25.0.0,>=24.0.0->poetry) (0.7.1)\n",
            "Requirement already satisfied: ptyprocess>=0.5 in /usr/local/lib/python3.10/dist-packages (from pexpect<5.0.0,>=4.7.0->poetry) (0.7.0)\n",
            "Requirement already satisfied: charset-normalizer<4,>=2 in /usr/local/lib/python3.10/dist-packages (from requests<3.0,>=2.26->poetry) (3.2.0)\n",
            "Requirement already satisfied: idna<4,>=2.5 in /usr/local/lib/python3.10/dist-packages (from requests<3.0,>=2.26->poetry) (3.4)\n",
            "Requirement already satisfied: certifi>=2017.4.17 in /usr/local/lib/python3.10/dist-packages (from requests<3.0,>=2.26->poetry) (2023.7.22)\n",
            "Requirement already satisfied: distlib<1,>=0.3.7 in /usr/local/lib/python3.10/dist-packages (from virtualenv<21.0.0,>=20.22.0->poetry) (0.3.7)\n",
            "Requirement already satisfied: zipp>=0.5 in /usr/local/lib/python3.10/dist-packages (from importlib-metadata>=4.11.4->keyring<25.0.0,>=24.0.0->poetry) (3.16.2)\n",
            "Requirement already satisfied: more-itertools in /usr/local/lib/python3.10/dist-packages (from jaraco.classes->keyring<25.0.0,>=24.0.0->poetry) (10.1.0)\n"
          ]
        }
      ]
    },
    {
      "cell_type": "code",
      "execution_count": 2,
      "metadata": {
        "id": "2HGBTHFjMIJZ"
      },
      "outputs": [],
      "source": [
        "!rm -rf Sam_LoRA"
      ]
    },
    {
      "cell_type": "code",
      "source": [
        "!git clone -b test https://github.com/MathieuNlp/Sam_LoRA.git"
      ],
      "metadata": {
        "colab": {
          "base_uri": "https://localhost:8080/"
        },
        "id": "Cn4ZxSdsNQu5",
        "outputId": "753f3181-ff4c-48c3-a993-4b5d42614738"
      },
      "execution_count": 3,
      "outputs": [
        {
          "output_type": "stream",
          "name": "stdout",
          "text": [
            "Cloning into 'Sam_LoRA'...\n",
            "remote: Enumerating objects: 731, done.\u001b[K\n",
            "remote: Counting objects: 100% (176/176), done.\u001b[K\n",
            "remote: Compressing objects: 100% (143/143), done.\u001b[K\n",
            "remote: Total 731 (delta 47), reused 68 (delta 33), pack-reused 555\u001b[K\n",
            "Receiving objects: 100% (731/731), 2.73 MiB | 7.30 MiB/s, done.\n",
            "Resolving deltas: 100% (444/444), done.\n"
          ]
        }
      ]
    },
    {
      "cell_type": "code",
      "source": [
        "import os\n",
        "os.chdir(\"/content/Sam_LoRA/sam_lora_poetry\")"
      ],
      "metadata": {
        "id": "ItKADk2xctiq"
      },
      "execution_count": 4,
      "outputs": []
    },
    {
      "cell_type": "code",
      "source": [
        "#%cd Sam_LoRA/sam_lora_poetry"
      ],
      "metadata": {
        "id": "DKUsfHTsMQOg"
      },
      "execution_count": 5,
      "outputs": []
    },
    {
      "cell_type": "code",
      "source": [
        "!poetry config virtualenvs.in-project false"
      ],
      "metadata": {
        "id": "oOWZChi1cAR7"
      },
      "execution_count": 6,
      "outputs": []
    },
    {
      "cell_type": "code",
      "source": [
        "!poetry install"
      ],
      "metadata": {
        "colab": {
          "base_uri": "https://localhost:8080/"
        },
        "id": "_y1XlptMc2WT",
        "outputId": "7f7fef83-42e5-4a2b-abad-ea7d260cece4"
      },
      "execution_count": 7,
      "outputs": [
        {
          "output_type": "stream",
          "name": "stdout",
          "text": [
            "\u001b[34mInstalling dependencies from lock file\u001b[39m\n",
            "\n",
            "\u001b[39;1mPackage operations\u001b[39;22m: \u001b[34m10\u001b[39m installs, \u001b[34m3\u001b[39m updates, \u001b[34m0\u001b[39m removals\n",
            "\n"
          ]
        }
      ]
    },
    {
      "cell_type": "markdown",
      "source": [
        "It seems that poetry has some trouble with colab for torch, cv2 and safetensors libraries so I manualy added it.\n",
        "\n",
        "If you run on a local machine, no need to do the poetry run as follows"
      ],
      "metadata": {
        "id": "ACCjqapZibaE"
      }
    },
    {
      "cell_type": "code",
      "source": [
        "!poetry run pip install opencv-python safetensors torch==1.12.1+cu116 torchvision==0.13.1+cu116 -f https://download.pytorch.org/whl/torch_stable.html"
      ],
      "metadata": {
        "colab": {
          "base_uri": "https://localhost:8080/"
        },
        "id": "MG6nj_n4iHZT",
        "outputId": "383509ea-4e6e-49a8-d101-3b31cfaa2b10"
      },
      "execution_count": 8,
      "outputs": [
        {
          "output_type": "stream",
          "name": "stdout",
          "text": [
            "Looking in links: https://download.pytorch.org/whl/torch_stable.html\n",
            "Requirement already satisfied: opencv-python in /root/.cache/pypoetry/virtualenvs/sam-lora-poetry-7d_XoABI-py3.10/lib/python3.10/site-packages (4.8.0.76)\n",
            "Requirement already satisfied: safetensors in /root/.cache/pypoetry/virtualenvs/sam-lora-poetry-7d_XoABI-py3.10/lib/python3.10/site-packages (0.3.3)\n",
            "Requirement already satisfied: torch==1.12.1+cu116 in /root/.cache/pypoetry/virtualenvs/sam-lora-poetry-7d_XoABI-py3.10/lib/python3.10/site-packages (1.12.1+cu116)\n",
            "Requirement already satisfied: torchvision==0.13.1+cu116 in /root/.cache/pypoetry/virtualenvs/sam-lora-poetry-7d_XoABI-py3.10/lib/python3.10/site-packages (0.13.1+cu116)\n",
            "Requirement already satisfied: typing-extensions in /root/.cache/pypoetry/virtualenvs/sam-lora-poetry-7d_XoABI-py3.10/lib/python3.10/site-packages (from torch==1.12.1+cu116) (4.8.0)\n",
            "Requirement already satisfied: numpy in /root/.cache/pypoetry/virtualenvs/sam-lora-poetry-7d_XoABI-py3.10/lib/python3.10/site-packages (from torchvision==0.13.1+cu116) (1.26.0)\n",
            "Requirement already satisfied: requests in /root/.cache/pypoetry/virtualenvs/sam-lora-poetry-7d_XoABI-py3.10/lib/python3.10/site-packages (from torchvision==0.13.1+cu116) (2.31.0)\n",
            "Requirement already satisfied: pillow!=8.3.*,>=5.3.0 in /root/.cache/pypoetry/virtualenvs/sam-lora-poetry-7d_XoABI-py3.10/lib/python3.10/site-packages (from torchvision==0.13.1+cu116) (10.0.1)\n",
            "Requirement already satisfied: charset-normalizer<4,>=2 in /root/.cache/pypoetry/virtualenvs/sam-lora-poetry-7d_XoABI-py3.10/lib/python3.10/site-packages (from requests->torchvision==0.13.1+cu116) (3.2.0)\n",
            "Requirement already satisfied: idna<4,>=2.5 in /root/.cache/pypoetry/virtualenvs/sam-lora-poetry-7d_XoABI-py3.10/lib/python3.10/site-packages (from requests->torchvision==0.13.1+cu116) (3.4)\n",
            "Requirement already satisfied: urllib3<3,>=1.21.1 in /root/.cache/pypoetry/virtualenvs/sam-lora-poetry-7d_XoABI-py3.10/lib/python3.10/site-packages (from requests->torchvision==0.13.1+cu116) (2.0.4)\n",
            "Requirement already satisfied: certifi>=2017.4.17 in /root/.cache/pypoetry/virtualenvs/sam-lora-poetry-7d_XoABI-py3.10/lib/python3.10/site-packages (from requests->torchvision==0.13.1+cu116) (2023.7.22)\n"
          ]
        }
      ]
    },
    {
      "cell_type": "code",
      "source": [
        "!wget https://dl.fbaipublicfiles.com/segment_anything/sam_vit_b_01ec64.pth"
      ],
      "metadata": {
        "colab": {
          "base_uri": "https://localhost:8080/"
        },
        "id": "we8oO564MUNJ",
        "outputId": "9a1aa065-dad1-4c1a-8360-7ec8fa0824d2"
      },
      "execution_count": 9,
      "outputs": [
        {
          "output_type": "stream",
          "name": "stdout",
          "text": [
            "--2023-09-18 13:48:15--  https://dl.fbaipublicfiles.com/segment_anything/sam_vit_b_01ec64.pth\n",
            "Resolving dl.fbaipublicfiles.com (dl.fbaipublicfiles.com)... 13.226.210.111, 13.226.210.15, 13.226.210.25, ...\n",
            "Connecting to dl.fbaipublicfiles.com (dl.fbaipublicfiles.com)|13.226.210.111|:443... connected.\n",
            "HTTP request sent, awaiting response... 200 OK\n",
            "Length: 375042383 (358M) [binary/octet-stream]\n",
            "Saving to: ‘sam_vit_b_01ec64.pth’\n",
            "\n",
            "sam_vit_b_01ec64.pt 100%[===================>] 357.67M  34.5MB/s    in 6.0s    \n",
            "\n",
            "2023-09-18 13:48:21 (60.1 MB/s) - ‘sam_vit_b_01ec64.pth’ saved [375042383/375042383]\n",
            "\n"
          ]
        }
      ]
    },
    {
      "cell_type": "code",
      "source": [
        "  import sys\n",
        "  sys.path.append(\"/root/.cache/pypoetry/virtualenvs/sam-lora-poetry-7d_XoABI-py3.10/lib/3.10.12/site-packages\")"
      ],
      "metadata": {
        "id": "5sWGY9K1cF2m"
      },
      "execution_count": 10,
      "outputs": []
    },
    {
      "cell_type": "markdown",
      "source": [
        "Click on the public URL once running"
      ],
      "metadata": {
        "id": "-gqGccLijoZ6"
      }
    },
    {
      "cell_type": "code",
      "source": [
        "!poetry run python ../app.py"
      ],
      "metadata": {
        "colab": {
          "base_uri": "https://localhost:8080/"
        },
        "id": "POemyc0dMamh",
        "outputId": "bb931b5d-d966-4ce9-ef4f-f2a24a820a6e"
      },
      "execution_count": 12,
      "outputs": [
        {
          "output_type": "stream",
          "name": "stdout",
          "text": [
            "/content/Sam_LoRA/sam_lora_poetry/../app.py:47: GradioDeprecationWarning: The `style` method is deprecated. Please set these arguments in the constructor instead.\n",
            "  with gr.Row().style(equal_height=True):\n",
            "Running on local URL:  http://127.0.0.1:7860\n",
            "Running on public URL: https://bd236fb2afbe76d8e6.gradio.live\n",
            "\n",
            "This share link expires in 72 hours. For free permanent hosting and GPU upgrades, run `gradio deploy` from Terminal to deploy to Spaces (https://huggingface.co/spaces)\n",
            "Traceback (most recent call last):\n",
            "  File \"/root/.cache/pypoetry/virtualenvs/sam-lora-poetry-7d_XoABI-py3.10/lib/python3.10/site-packages/gradio/routes.py\", line 508, in predict\n",
            "    output = await route_utils.call_process_api(\n",
            "  File \"/root/.cache/pypoetry/virtualenvs/sam-lora-poetry-7d_XoABI-py3.10/lib/python3.10/site-packages/gradio/route_utils.py\", line 218, in call_process_api\n",
            "    with utils.MatplotlibBackendMananger():\n",
            "  File \"/root/.cache/pypoetry/virtualenvs/sam-lora-poetry-7d_XoABI-py3.10/lib/python3.10/site-packages/gradio/utils.py\", line 821, in __exit__\n",
            "    matplotlib.use(self._original_backend)\n",
            "  File \"/root/.cache/pypoetry/virtualenvs/sam-lora-poetry-7d_XoABI-py3.10/lib/python3.10/site-packages/matplotlib/__init__.py\", line 1249, in use\n",
            "    plt.switch_backend(name)\n",
            "  File \"/root/.cache/pypoetry/virtualenvs/sam-lora-poetry-7d_XoABI-py3.10/lib/python3.10/site-packages/matplotlib/pyplot.py\", line 342, in switch_backend\n",
            "    module = importlib.import_module(cbook._backend_module_name(newbackend))\n",
            "  File \"/usr/lib/python3.10/importlib/__init__.py\", line 126, in import_module\n",
            "    return _bootstrap._gcd_import(name[level:], package, level)\n",
            "  File \"<frozen importlib._bootstrap>\", line 1050, in _gcd_import\n",
            "  File \"<frozen importlib._bootstrap>\", line 1027, in _find_and_load\n",
            "  File \"<frozen importlib._bootstrap>\", line 992, in _find_and_load_unlocked\n",
            "  File \"<frozen importlib._bootstrap>\", line 241, in _call_with_frames_removed\n",
            "  File \"<frozen importlib._bootstrap>\", line 1050, in _gcd_import\n",
            "  File \"<frozen importlib._bootstrap>\", line 1027, in _find_and_load\n",
            "  File \"<frozen importlib._bootstrap>\", line 992, in _find_and_load_unlocked\n",
            "  File \"<frozen importlib._bootstrap>\", line 241, in _call_with_frames_removed\n",
            "  File \"<frozen importlib._bootstrap>\", line 1050, in _gcd_import\n",
            "  File \"<frozen importlib._bootstrap>\", line 1027, in _find_and_load\n",
            "  File \"<frozen importlib._bootstrap>\", line 1004, in _find_and_load_unlocked\n",
            "ModuleNotFoundError: No module named 'ipykernel'\n",
            "[[309, 144]]\n",
            "[[309, 144], [815, 1309]]\n",
            "Keyboard interruption in main thread... closing server.\n",
            "Traceback (most recent call last):\n",
            "  File \"/root/.cache/pypoetry/virtualenvs/sam-lora-poetry-7d_XoABI-py3.10/lib/python3.10/site-packages/gradio/blocks.py\", line 2209, in block_thread\n",
            "    time.sleep(0.1)\n",
            "KeyboardInterrupt\n",
            "\n",
            "During handling of the above exception, another exception occurred:\n",
            "\n",
            "Traceback (most recent call last):\n",
            "  File \"/content/Sam_LoRA/sam_lora_poetry/../app.py\", line 133, in <module>\n",
            "    demo.launch(share=True)\n",
            "  File \"/root/.cache/pypoetry/virtualenvs/sam-lora-poetry-7d_XoABI-py3.10/lib/python3.10/site-packages/gradio/blocks.py\", line 2125, in launch\n",
            "    self.block_thread()\n",
            "  File \"/root/.cache/pypoetry/virtualenvs/sam-lora-poetry-7d_XoABI-py3.10/lib/python3.10/site-packages/gradio/blocks.py\", line 2213, in block_thread\n",
            "    self.server.close()\n",
            "  File \"/root/.cache/pypoetry/virtualenvs/sam-lora-poetry-7d_XoABI-py3.10/lib/python3.10/site-packages/gradio/networking.py\", line 75, in close\n",
            "    self.thread.join()\n",
            "  File \"/usr/lib/python3.10/threading.py\", line 1096, in join\n",
            "    self._wait_for_tstate_lock()\n",
            "  File \"/usr/lib/python3.10/threading.py\", line 1116, in _wait_for_tstate_lock\n",
            "    if lock.acquire(block, timeout):\n",
            "KeyboardInterrupt\n",
            "Killing tunnel 127.0.0.1:7860 <> https://bd236fb2afbe76d8e6.gradio.live\n",
            "^C\n"
          ]
        }
      ]
    }
  ]
}